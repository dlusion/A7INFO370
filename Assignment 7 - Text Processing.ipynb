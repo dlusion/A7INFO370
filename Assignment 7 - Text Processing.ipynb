{
 "cells": [
  {
   "cell_type": "markdown",
   "metadata": {},
   "source": [
    "# Assignment 7 - Text Processing (Group)\n",
    "*Daniel Lu, Wanyu Guan, Markus Shriner*"
   ]
  },
  {
   "cell_type": "code",
   "execution_count": 127,
   "metadata": {},
   "outputs": [],
   "source": [
    "# Import libraries\n",
    "import numpy as np \n",
    "import pandas as pd \n",
    "import matplotlib.pyplot as plt\n",
    "import statsmodels.formula as smf\n",
    "from sklearn.linear_model import LogisticRegression\n",
    "from sklearn.model_selection import train_test_split"
   ]
  },
  {
   "cell_type": "markdown",
   "metadata": {},
   "source": [
    "## 1. Explore the data\n"
   ]
  },
  {
   "cell_type": "markdown",
   "metadata": {},
   "source": [
    "### 1.1 Load the data. You may drop size, lines, and pagenr."
   ]
  },
  {
   "cell_type": "code",
   "execution_count": 110,
   "metadata": {},
   "outputs": [
    {
     "data": {
      "text/html": [
       "<div>\n",
       "<style scoped>\n",
       "    .dataframe tbody tr th:only-of-type {\n",
       "        vertical-align: middle;\n",
       "    }\n",
       "\n",
       "    .dataframe tbody tr th {\n",
       "        vertical-align: top;\n",
       "    }\n",
       "\n",
       "    .dataframe thead th {\n",
       "        text-align: right;\n",
       "    }\n",
       "</style>\n",
       "<table border=\"1\" class=\"dataframe\">\n",
       "  <thead>\n",
       "    <tr style=\"text-align: right;\">\n",
       "      <th></th>\n",
       "      <th>name</th>\n",
       "      <th>text</th>\n",
       "    </tr>\n",
       "  </thead>\n",
       "  <tbody>\n",
       "    <tr>\n",
       "      <td>0</td>\n",
       "      <td>balbulus-early-life-charlemagne</td>\n",
       "      <td>\\nTitle: Early Lives of Charlemagne by Eginhar...</td>\n",
       "    </tr>\n",
       "    <tr>\n",
       "      <td>1</td>\n",
       "      <td>balbulus-early-life-charlemagne</td>\n",
       "      <td>\\n\\nThe notes, keyed to line numbers in the so...</td>\n",
       "    </tr>\n",
       "    <tr>\n",
       "      <td>2</td>\n",
       "      <td>balbulus-early-life-charlemagne</td>\n",
       "      <td>\\n         From a bronze statuette in the Musé...</td>\n",
       "    </tr>\n",
       "    <tr>\n",
       "      <td>3</td>\n",
       "      <td>balbulus-early-life-charlemagne</td>\n",
       "      <td>\\n                _A lui finit la dissolution ...</td>\n",
       "    </tr>\n",
       "    <tr>\n",
       "      <td>4</td>\n",
       "      <td>balbulus-early-life-charlemagne</td>\n",
       "      <td>public opinion in regard to the meaning of fal...</td>\n",
       "    </tr>\n",
       "  </tbody>\n",
       "</table>\n",
       "</div>"
      ],
      "text/plain": [
       "                              name  \\\n",
       "0  balbulus-early-life-charlemagne   \n",
       "1  balbulus-early-life-charlemagne   \n",
       "2  balbulus-early-life-charlemagne   \n",
       "3  balbulus-early-life-charlemagne   \n",
       "4  balbulus-early-life-charlemagne   \n",
       "\n",
       "                                                text  \n",
       "0  \\nTitle: Early Lives of Charlemagne by Eginhar...  \n",
       "1  \\n\\nThe notes, keyed to line numbers in the so...  \n",
       "2  \\n         From a bronze statuette in the Musé...  \n",
       "3  \\n                _A lui finit la dissolution ...  \n",
       "4  public opinion in regard to the meaning of fal...  "
      ]
     },
     "execution_count": 110,
     "metadata": {},
     "output_type": "execute_result"
    }
   ],
   "source": [
    "#Load the data \n",
    "tx = pd.read_csv(\"./texts.csv.bz2\", sep=\"\\t\")\n",
    "tx.drop(columns=[\"size\", \"lines\", \"pagenr\"], inplace=True)\n",
    "tx.head(5)"
   ]
  },
  {
   "cell_type": "markdown",
   "metadata": {},
   "source": [
    "### 1.2 Ensure that you don't have any missing name, and empty text in your data."
   ]
  },
  {
   "cell_type": "code",
   "execution_count": 111,
   "metadata": {},
   "outputs": [
    {
     "data": {
      "text/plain": [
       "name    0\n",
       "text    1\n",
       "dtype: int64"
      ]
     },
     "execution_count": 111,
     "metadata": {},
     "output_type": "execute_result"
    }
   ],
   "source": [
    "tx.isna().sum()"
   ]
  },
  {
   "cell_type": "code",
   "execution_count": 112,
   "metadata": {},
   "outputs": [],
   "source": [
    "tx.dropna(inplace=True)"
   ]
  },
  {
   "cell_type": "code",
   "execution_count": 113,
   "metadata": {},
   "outputs": [
    {
     "data": {
      "text/plain": [
       "name    0\n",
       "text    0\n",
       "dtype: int64"
      ]
     },
     "execution_count": 113,
     "metadata": {},
     "output_type": "execute_result"
    }
   ],
   "source": [
    "tx.isna().sum()"
   ]
  },
  {
   "cell_type": "markdown",
   "metadata": {},
   "source": [
    "### 1.3 Create a summary table where you show how many chunks of each book you have in data. Order this by size.\n"
   ]
  },
  {
   "cell_type": "code",
   "execution_count": 114,
   "metadata": {},
   "outputs": [
    {
     "data": {
      "text/plain": [
       "'\\nTitle: Early Lives of Charlemagne by Eginhard and the Monk of St Gall\\n       edited by Prof. A. J. Grant\\nAuthor: Einhard and Notker Balbulus\\nRelease Date: May 03, 2015 [EBook #48870]\\nLanguage: English\\nCharacter set encoding: UTF-8\\n\\n\\n*** START OF THIS PROJECT GUTENBERG EBOOK EARLY LIVES OF CHARLEMAGNE ***\\n\\n\\n\\n\\nProduced by Andrew Dunning.\\n\\nCreated from scans by Robarts Library, University of Toronto, available\\nthrough the Internet Archive.\\n\\n\\n\\n\\nTranscriber’s Note'"
      ]
     },
     "execution_count": 114,
     "metadata": {},
     "output_type": "execute_result"
    }
   ],
   "source": [
    "tx.text.iat[0]"
   ]
  },
  {
   "cell_type": "code",
   "execution_count": null,
   "metadata": {},
   "outputs": [],
   "source": []
  },
  {
   "cell_type": "markdown",
   "metadata": {},
   "source": [
    "## 2. First Task: Tokenize"
   ]
  },
  {
   "cell_type": "markdown",
   "metadata": {},
   "source": [
    "### 2.1 Convert all texts to lower case\n"
   ]
  },
  {
   "cell_type": "code",
   "execution_count": 115,
   "metadata": {},
   "outputs": [
    {
     "data": {
      "text/plain": [
       "0        \\ntitle: early lives of charlemagne by eginhar...\n",
       "1        \\n\\nthe notes, keyed to line numbers in the so...\n",
       "2        \\n         from a bronze statuette in the musé...\n",
       "3        \\n                _a lui finit la dissolution ...\n",
       "4        public opinion in regard to the meaning of fal...\n",
       "                               ...                        \n",
       "12919         descriptive cataloging division lm 540\\n ...\n",
       "12920         james graber\\n     information technology...\n",
       "12921    \\n     john w. kimball, jr\\n     machine-reada...\n",
       "12922         (202) 707-7706\\n\\n     chandru j. shahani...\n",
       "12923         preservation microfilming office lm g05\\n...\n",
       "Name: text, Length: 12923, dtype: object"
      ]
     },
     "execution_count": 115,
     "metadata": {},
     "output_type": "execute_result"
    }
   ],
   "source": [
    "tx.text = tx.text.str.lower()\n",
    "tx.text"
   ]
  },
  {
   "cell_type": "markdown",
   "metadata": {},
   "source": [
    "### 2.2 Remove punctuation and other weird characters. I recommend to replace these with space."
   ]
  },
  {
   "cell_type": "code",
   "execution_count": 116,
   "metadata": {},
   "outputs": [
    {
     "data": {
      "text/plain": [
       "'!\"#$%&\\'()*+,-./:;<=>?@[\\\\]^_`{|}~'"
      ]
     },
     "execution_count": 116,
     "metadata": {},
     "output_type": "execute_result"
    }
   ],
   "source": [
    "punk = \"!\\\"#$%&'()*+,-./:;<=>?@[\\]^_`{|}~\"\n",
    "punk"
   ]
  },
  {
   "cell_type": "code",
   "execution_count": 117,
   "metadata": {},
   "outputs": [],
   "source": [
    "tx.text = tx.text.str.translate(str.maketrans(punk, ' '*len(punk))) "
   ]
  },
  {
   "cell_type": "code",
   "execution_count": 118,
   "metadata": {},
   "outputs": [
    {
     "data": {
      "text/plain": [
       "0        \\ntitle  early lives of charlemagne by eginhar...\n",
       "1        \\n\\nthe notes  keyed to line numbers in the so...\n",
       "2        \\n         from a bronze statuette in the musé...\n",
       "3        \\n                 a lui finit la dissolution ...\n",
       "4        public opinion in regard to the meaning of fal...\n",
       "                               ...                        \n",
       "12919         descriptive cataloging division lm 540\\n ...\n",
       "12920         james graber\\n     information technology...\n",
       "12921    \\n     john w  kimball  jr\\n     machine reada...\n",
       "12922          202  707 7706\\n\\n     chandru j  shahani...\n",
       "12923         preservation microfilming office lm g05\\n...\n",
       "Name: text, Length: 12923, dtype: object"
      ]
     },
     "execution_count": 118,
     "metadata": {},
     "output_type": "execute_result"
    }
   ],
   "source": [
    "tx.text"
   ]
  },
  {
   "cell_type": "markdown",
   "metadata": {},
   "source": [
    "### 2.3 Tokenize texts to words. If you replaced punctuation with spaces, you can just use pandas' str.split method.\n"
   ]
  },
  {
   "cell_type": "code",
   "execution_count": 125,
   "metadata": {},
   "outputs": [],
   "source": [
    "tx.text = tx.text.str.split()"
   ]
  },
  {
   "cell_type": "code",
   "execution_count": 126,
   "metadata": {},
   "outputs": [
    {
     "data": {
      "text/plain": [
       "0        [title, early, lives, of, charlemagne, by, egi...\n",
       "1        [the, notes, keyed, to, line, numbers, in, the...\n",
       "2        [from, a, bronze, statuette, in, the, musée, c...\n",
       "3        [a, lui, finit, la, dissolution, de, l’ancien,...\n",
       "4        [public, opinion, in, regard, to, the, meaning...\n",
       "                               ...                        \n",
       "12919    [descriptive, cataloging, division, lm, 540, 2...\n",
       "12920    [james, graber, information, technology, servi...\n",
       "12921    [john, w, kimball, jr, machine, readable, coll...\n",
       "12922    [202, 707, 7706, chandru, j, shahani, preserva...\n",
       "12923    [preservation, microfilming, office, lm, g05, ...\n",
       "Name: text, Length: 12923, dtype: object"
      ]
     },
     "execution_count": 126,
     "metadata": {},
     "output_type": "execute_result"
    }
   ],
   "source": [
    "tx.text"
   ]
  },
  {
   "cell_type": "markdown",
   "metadata": {},
   "source": [
    "### 2.4 Remove stopwords. It is up to you to decide which stopwords to remove, I recommend to include at least the and a.\n"
   ]
  },
  {
   "cell_type": "code",
   "execution_count": null,
   "metadata": {},
   "outputs": [],
   "source": []
  },
  {
   "cell_type": "code",
   "execution_count": null,
   "metadata": {},
   "outputs": [],
   "source": []
  },
  {
   "cell_type": "code",
   "execution_count": null,
   "metadata": {},
   "outputs": [],
   "source": []
  },
  {
   "cell_type": "code",
   "execution_count": null,
   "metadata": {},
   "outputs": [],
   "source": []
  },
  {
   "cell_type": "code",
   "execution_count": null,
   "metadata": {},
   "outputs": [],
   "source": []
  },
  {
   "cell_type": "code",
   "execution_count": null,
   "metadata": {},
   "outputs": [],
   "source": []
  }
 ],
 "metadata": {
  "kernelspec": {
   "display_name": "Python 3",
   "language": "python",
   "name": "python3"
  },
  "language_info": {
   "codemirror_mode": {
    "name": "ipython",
    "version": 3
   },
   "file_extension": ".py",
   "mimetype": "text/x-python",
   "name": "python",
   "nbconvert_exporter": "python",
   "pygments_lexer": "ipython3",
   "version": "3.7.4"
  }
 },
 "nbformat": 4,
 "nbformat_minor": 2
}
